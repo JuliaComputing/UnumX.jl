{
 "cells": [
  {
   "cell_type": "code",
   "execution_count": 1,
   "metadata": {
    "collapsed": false
   },
   "outputs": [],
   "source": [
    "using UnumX\n",
    "import UnumX: Ubound34"
   ]
  },
  {
   "cell_type": "code",
   "execution_count": 2,
   "metadata": {
    "collapsed": false
   },
   "outputs": [
    {
     "data": {
      "text/plain": [
       "Complex{UnumX.Interval{UnumX.Unum{3,4,UInt64}}}\n",
       "(1.0999908447265625,1.100006103515625) + 0.0*im"
      ]
     },
     "execution_count": 2,
     "metadata": {},
     "output_type": "execute_result"
    }
   ],
   "source": [
    "complex(Ubound34(1.1))"
   ]
  },
  {
   "cell_type": "code",
   "execution_count": 3,
   "metadata": {
    "collapsed": false
   },
   "outputs": [
    {
     "data": {
      "text/plain": [
       "fftx (generic function with 1 method)"
      ]
     },
     "execution_count": 3,
     "metadata": {},
     "output_type": "execute_result"
    }
   ],
   "source": [
    "# computes the fft coefficient in high precision, then converts back\n",
    "fftx_coef{T}(::Type{T},k,N) = convert(T,exp(-2*π*im*BigFloat(k)/N)) \n",
    "\n",
    "# simple Cooley-Tukey FFT\n",
    "function fftx(x)\n",
    "    N = length(x)\n",
    "    if N == 1\n",
    "        return x\n",
    "    else\n",
    "        y1 = fftx(x[1:2:N-1])\n",
    "        y2 = fftx(x[2:2:N])\n",
    "        \n",
    "        n = length(y1)\n",
    "        X = similar(x)\n",
    "        for k = 1:n\n",
    "            a,b = y1[k], y2[k]\n",
    "            z = fftx_coef(eltype(x),k-1,N)\n",
    "            X[k] = a + z * b\n",
    "            X[n+k] = a - z * b\n",
    "        end\n",
    "        return X\n",
    "    end\n",
    "end"
   ]
  },
  {
   "cell_type": "code",
   "execution_count": 4,
   "metadata": {
    "collapsed": false
   },
   "outputs": [
    {
     "data": {
      "text/plain": [
       "8-element Array{Complex{UnumX.Interval{UnumX.Unum{3,4,UInt64}}},1}:\n",
       " (-0.4663276672363281,-0.4663238525390625)+0.0*im\n",
       "    (0.935699462890625,0.9357070922851562)+0.0*im\n",
       " (-0.5047760009765625,-0.5047683715820312)+0.0*im\n",
       "  (0.3794288635253906,0.37943267822265625)+0.0*im\n",
       "      (1.4434661865234375,1.4434814453125)+0.0*im\n",
       "  (-0.626068115234375,-0.6260604858398438)+0.0*im\n",
       " (-0.4279975891113281,-0.4279937744140625)+0.0*im\n",
       "    (0.564178466796875,0.5641860961914062)+0.0*im"
      ]
     },
     "execution_count": 4,
     "metadata": {},
     "output_type": "execute_result"
    }
   ],
   "source": [
    "x = randn(8)\n",
    "xc = complex(x)\n",
    "u = map(Ubound34,x)\n",
    "uc = complex(u)"
   ]
  },
  {
   "cell_type": "code",
   "execution_count": 5,
   "metadata": {
    "collapsed": false
   },
   "outputs": [
    {
     "data": {
      "text/plain": [
       "8-element Array{Complex{Float64},1}:\n",
       "   1.29763+0.0im     \n",
       " -0.674817-0.896919im\n",
       "   1.90991+0.63398im \n",
       "  -3.14477-1.05047im \n",
       "  -1.20887+0.0im     \n",
       "  -3.14477+1.05047im \n",
       "   1.90991-0.63398im \n",
       " -0.674817+0.896919im"
      ]
     },
     "execution_count": 5,
     "metadata": {},
     "output_type": "execute_result"
    }
   ],
   "source": [
    "fft(x)"
   ]
  },
  {
   "cell_type": "code",
   "execution_count": 6,
   "metadata": {
    "collapsed": false
   },
   "outputs": [
    {
     "data": {
      "text/plain": [
       "8-element Array{Complex{Float64},1}:\n",
       "   1.29763+0.0im     \n",
       " -0.674817-0.896919im\n",
       "   1.90991+0.63398im \n",
       "  -3.14477-1.05047im \n",
       "  -1.20887+0.0im     \n",
       "  -3.14477+1.05047im \n",
       "   1.90991-0.63398im \n",
       " -0.674817+0.896919im"
      ]
     },
     "execution_count": 6,
     "metadata": {},
     "output_type": "execute_result"
    }
   ],
   "source": [
    "fftx(xc)"
   ]
  },
  {
   "cell_type": "code",
   "execution_count": 7,
   "metadata": {
    "collapsed": false
   },
   "outputs": [
    {
     "data": {
      "text/plain": [
       "8-element Array{Complex{UnumX.Interval{UnumX.Unum{3,4,UInt64}}},1}:\n",
       "                          (1.2975921630859375,1.29766845703125)+-0.0*im                                    \n",
       " (-0.6749114990234375,-0.6747894287109375)+(-0.8969573974609375,-0.8968658447265625)*im                    \n",
       "                           (1.909881591796875,1.909942626953125)+(0.6339492797851562,0.6339874267578125)*im\n",
       "     (-3.14483642578125,-3.14471435546875)+(-1.0505218505859375,-1.0504302978515625)*im                    \n",
       "                       (-1.2089080810546875,-1.208831787109375)+-0.0*im                                    \n",
       "                           (-3.14483642578125,-3.14471435546875)+(1.0504150390625,1.050506591796875)*im    \n",
       "   (1.9098968505859375,1.9099578857421875)+(-0.6339874267578125,-0.6339492797851562)*im                    \n",
       "                       (-0.6748809814453125,-0.6747589111328125)+(0.896881103515625,0.89697265625)*im      "
      ]
     },
     "execution_count": 7,
     "metadata": {},
     "output_type": "execute_result"
    }
   ],
   "source": [
    "fftx(uc)"
   ]
  },
  {
   "cell_type": "code",
   "execution_count": null,
   "metadata": {
    "collapsed": true
   },
   "outputs": [],
   "source": []
  }
 ],
 "metadata": {
  "kernelspec": {
   "display_name": "Julia 0.4.2",
   "language": "julia",
   "name": "julia-0.4"
  },
  "language_info": {
   "file_extension": ".jl",
   "mimetype": "application/julia",
   "name": "julia",
   "version": "0.4.2"
  }
 },
 "nbformat": 4,
 "nbformat_minor": 0
}
