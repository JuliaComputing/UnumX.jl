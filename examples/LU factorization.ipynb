{
 "cells": [
  {
   "cell_type": "code",
   "execution_count": 1,
   "metadata": {
    "collapsed": false
   },
   "outputs": [],
   "source": [
    "using UnumX"
   ]
  },
  {
   "cell_type": "code",
   "execution_count": 2,
   "metadata": {
    "collapsed": false
   },
   "outputs": [
    {
     "data": {
      "text/plain": [
       "5x5 Array{UnumX.Interval{UnumX.Unum{3,4,UInt64}},2}:\n",
       " (-2.317718505859375,-2.31768798828125)      …   (1.35028076171875,1.3502960205078125)   \n",
       "  (0.2939567565917969,0.2939605712890625)       (-0.6722564697265625,-0.6722488403320312)\n",
       "  (0.7300872802734375,0.7300949096679688)        (0.5730361938476562,0.5730438232421875) \n",
       " (-0.4973106384277344,-0.49730682373046875)      (1.246551513671875,1.2465667724609375)  \n",
       " (-0.8843307495117188,-0.8843231201171875)      (-0.5851058959960938,-0.5850982666015625)"
      ]
     },
     "execution_count": 2,
     "metadata": {},
     "output_type": "execute_result"
    }
   ],
   "source": [
    "X = map(Ubound34, randn(5,5))"
   ]
  },
  {
   "cell_type": "code",
   "execution_count": 3,
   "metadata": {
    "collapsed": false
   },
   "outputs": [
    {
     "data": {
      "text/plain": [
       "(\n",
       "5x5 Array{UnumX.Interval{UnumX.Unum{3,4,UInt64}},2}:\n",
       "   1.0                                       …  0.0\n",
       " (-0.12683486938476562,-0.1268291473388672)     0.0\n",
       " (-0.3150138854980469,-0.3149986267089844)      0.0\n",
       "  (0.21456527709960938,0.21457290649414062)     0.0\n",
       "  (0.3815460205078125,0.381561279296875)        1.0,\n",
       "\n",
       "5x5 Array{UnumX.Interval{UnumX.Unum{3,4,UInt64}},2}:\n",
       " (-2.317718505859375,-2.31768798828125)  …   (1.35028076171875,1.3502960205078125)   \n",
       "   0.0                                      (-0.501007080078125,-0.5009841918945312) \n",
       "   0.0                                       (1.8968963623046875,1.8970489501953125) \n",
       "   0.0                                       (1.36541748046875,1.3655853271484375)   \n",
       "   0.0                                      (-1.3201141357421875,-1.3184356689453125),\n",
       "\n",
       "[1,2,3,4,5])"
      ]
     },
     "execution_count": 3,
     "metadata": {},
     "output_type": "execute_result"
    }
   ],
   "source": [
    "L,U,p = lu(X,Val{false}) # disable pivoting"
   ]
  },
  {
   "cell_type": "code",
   "execution_count": 4,
   "metadata": {
    "collapsed": false
   },
   "outputs": [
    {
     "data": {
      "text/plain": [
       "5x5 Array{UnumX.Interval{UnumX.Unum{3,4,UInt64}},2}:\n",
       " (-2.317718505859375,-2.31768798828125)       …   (1.35028076171875,1.3502960205078125)  \n",
       "  (0.2939491271972656,0.29396820068359375)       (-0.672271728515625,-0.6722335815429688)\n",
       "  (0.7300643920898438,0.7301177978515625)         (0.5728912353515625,0.5731964111328125)\n",
       " (-0.49732208251953125,-0.49729156494140625)      (1.2464141845703125,1.2467193603515625)\n",
       " (-0.8843536376953125,-0.8843002319335938)       (-0.586761474609375,-0.58343505859375)  "
      ]
     },
     "execution_count": 4,
     "metadata": {},
     "output_type": "execute_result"
    }
   ],
   "source": [
    "L*U"
   ]
  },
  {
   "cell_type": "code",
   "execution_count": 5,
   "metadata": {
    "collapsed": false
   },
   "outputs": [
    {
     "data": {
      "text/plain": [
       "5x5 Array{UnumX.Interval{UnumX.Unum{3,4,UInt64}},2}:\n",
       " (-3.0517578125e-5,3.0517578125e-5)        …  (-1.52587890625e-5,1.52587890625e-5)     \n",
       " (-1.1444091796875e-5,1.1444091796875e-5)     (-2.288818359375e-5,2.288818359375e-5)   \n",
       " (-3.0517578125e-5,3.0517578125e-5)           (-0.000152587890625,0.00016021728515625) \n",
       " (-1.52587890625e-5,1.9073486328125e-5)       (-0.000152587890625,0.0001678466796875)  \n",
       " (-3.0517578125e-5,3.0517578125e-5)           (-0.0016632080078125,0.00167083740234375)"
      ]
     },
     "execution_count": 5,
     "metadata": {},
     "output_type": "execute_result"
    }
   ],
   "source": [
    "L*U - X"
   ]
  },
  {
   "cell_type": "code",
   "execution_count": null,
   "metadata": {
    "collapsed": true
   },
   "outputs": [],
   "source": []
  }
 ],
 "metadata": {
  "kernelspec": {
   "display_name": "Julia 0.4.2",
   "language": "julia",
   "name": "julia-0.4"
  },
  "language_info": {
   "file_extension": ".jl",
   "mimetype": "application/julia",
   "name": "julia",
   "version": "0.4.2"
  }
 },
 "nbformat": 4,
 "nbformat_minor": 0
}
